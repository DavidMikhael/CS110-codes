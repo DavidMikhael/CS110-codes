{
 "cells": [
  {
   "cell_type": "markdown",
   "id": "44420747",
   "metadata": {},
   "source": [
    "David Mikhael\n",
    "\n",
    "CS110 Final\n",
    "\n",
    "Fall 2021"
   ]
  },
  {
   "cell_type": "code",
   "execution_count": 715,
   "id": "6437ac46",
   "metadata": {},
   "outputs": [],
   "source": [
    "class HashTable_rolling:\n",
    "    '''\n",
    "    This class does the rolling hashign procedure given input parameters that are decided on\n",
    "    '''\n",
    "    def __init__(self, m, d, k):\n",
    "        self.m = m #Sets the size for the hash table\n",
    "        self.d = d #Sets the base of the hash function\n",
    "        self.k = k #Sets the substring length\n",
    "        self.hash_table = [None for _ in range(1000117)] #Sets the size for the hash table\n",
    "    \n",
    "    def insert_all(self,x):\n",
    "        \n",
    "        '''\n",
    "        Creates the hash table\n",
    "        \n",
    "        Parameters\n",
    "        -----------------------\n",
    "        x: str - The text to test for plagiarism\n",
    "        \n",
    "        Inputs\n",
    "        -----------------------\n",
    "        k: int - the length of substring to look for\n",
    "        \n",
    "        Returns\n",
    "        -----------------------\n",
    "        None\n",
    "        \n",
    "        '''\n",
    "        \n",
    "        so_far_x = []\n",
    "        #Initializes a list that stores letters in triplets whose hash is currently calculated\n",
    "        #, from which I get the letter to be popped and to which I add the new letter for rolling\n",
    "        k = self.k \n",
    "        key_0 = x[0:k] \n",
    "        #Takes k letters at a time\n",
    "        node = Node(key_0, 0) \n",
    "        #Call the node class to make us of its attributes\n",
    "        highest_power = len(key_0) - 1 \n",
    "        #This is the power of the d base, starting from here is the hash function\n",
    "        hash_target = ord(key_0[0]) * self.d**highest_power \n",
    "        so_far_x.append(x[0])\n",
    "        for i in range(1,len(key_0)): \n",
    "            #Looping from the second element till the end of the first key\n",
    "            highest_power -= 1 \n",
    "            #The power of base d is decreased as we go to the right\n",
    "            hash_target += ord(key_0[i]) * self.d**highest_power \n",
    "            #The hash value for the first letter in the first key\n",
    "            so_far_x.append(x[i])\n",
    "        hash_target_mod = hash_target % self.m \n",
    "        #This and the 4 lines above calculates the inital backbone hash value for the\n",
    "        #first three letters\n",
    "        if self.hash_table[hash_target_mod] is not None: \n",
    "            #Separate chaining: If there is a node at this hash value already, add our\n",
    "            #node to the chain of the previous one\n",
    "            node.nexto = self.hash_table[hash_target_mod]\n",
    "        self.hash_table[hash_target_mod] = node \n",
    "        for i in range(1,len(x) - k + 1): \n",
    "            #Looping from the second key till the last one\n",
    "            #The below lines of code until line 34 continues rolling after the first 3 letter\n",
    "            key = x[i:i+k] \n",
    "            #Gets a new key by sliding to the right one position\n",
    "            node = Node(key, i) \n",
    "            #Creates an object of the Node class of \"first\" attribute\n",
    "            #of i\n",
    "            so_far_x.append(key[-1]) \n",
    "            #Adds a new letter\n",
    "            first = so_far_x.pop(0) \n",
    "            #Removes the first letter \n",
    "            hash_target = (hash_target - (ord(first) * self.d**(k-1))) * self.d \n",
    "            #Removes the hash value of the first letter and adjust the rest\n",
    "            hash_target += ord(key[-1]) #Adds the hash value of the new letter\n",
    "            hash_target_mod = hash_target % self.m\n",
    "            if self.hash_table[hash_target_mod] is not None:\n",
    "                node.nexto = self.hash_table[hash_target_mod]\n",
    "            self.hash_table[hash_target_mod] = node #Same as above for separate chaining\n",
    "\n",
    "    def search(self,x,y):\n",
    "        \n",
    "        '''\n",
    "        Searches for a matching (plagiarized) key\n",
    "        \n",
    "        Parameters\n",
    "        -----------------------\n",
    "        x: str - The text to test for plagiarism\n",
    "        y: str - The string to be matched with the original text\n",
    "        \n",
    "        Inputs\n",
    "        -----------------------\n",
    "        k: int - the length of substring to look for\n",
    "        self.hash_table - list - the hash table\n",
    "        \n",
    "        Returns\n",
    "        -----------------------\n",
    "        where: tuple - the position of the first letters of matching substring\n",
    "        \n",
    "        '''\n",
    "        so_far_y = [] \n",
    "        #The same as so_far_x\n",
    "        k = self.k\n",
    "        where = [] \n",
    "        #This stores the positions of the first letters of common substrings\n",
    "        highest_power = k - 1\n",
    "        hash_original = ord(y[0]) * self.d**highest_power\n",
    "        so_far_y.append(y[0])\n",
    "        for i in range(1,k): \n",
    "            #Looping through the first key\n",
    "            highest_power -= 1\n",
    "            hash_original += ord(y[i]) * self.d**highest_power  \n",
    "            so_far_y.append(y[i])\n",
    "        hash_original_mod = hash_original % self.m \n",
    "        #The above lines of code computes the hash value for the first three letters\n",
    "        #in the same way as before\n",
    "        cur = self.hash_table[hash_original_mod] #Store the key of the hash value from\n",
    "        #the hash table as a new variable \n",
    "        while cur is not None: #If this key exists already in the hash table\n",
    "            if cur.key == ''.join(so_far_y): #If the letters of this key match the\n",
    "                #letters we are looking for\n",
    "                where.append((cur.first, 0)) \n",
    "                #Get the indices of the first letter of these matching keys\n",
    "            cur = cur.nexto \n",
    "            #Check for another adjacent match\n",
    "\n",
    "        for i in range(k,len(y)): \n",
    "            #Looping through the rest of the keys\n",
    "            so_far_y.append(y[i])\n",
    "            first = so_far_y.pop(0)\n",
    "            hash_original = (hash_original - (ord(first) * self.d**(k-1))) * self.d\n",
    "            hash_original += ord(y[i]) \n",
    "            hash_original_mod = hash_original % self.m \n",
    "            #The above lines of code computes the hash value for rest of the letters\n",
    "            #in the same way as before\n",
    "            cur = self.hash_table[hash_original_mod]\n",
    "            while cur is not None:\n",
    "                if cur.key == ''.join(so_far_y):\n",
    "                    where.append((cur.first, i-k+1)) #Here the index for y is not zero\n",
    "                    #because we are rolling on y as well; the index for x is the \"first\"\n",
    "                    #attribute of class Node.\n",
    "                cur = cur.nexto \n",
    "                #The above lines search for a match in the same way as before\n",
    "\n",
    "        return where\n",
    "        \n",
    "        \n",
    "            \n",
    "class Node:\n",
    "    '''\n",
    "    This hash table node stores the key and value pairs.\n",
    "    Additionally, it has the attribute next and prev\n",
    "    for us to traverse the linked list and go to the\n",
    "    next node or previous node, respectively.\n",
    "    '''\n",
    "    def __init__(self, key, first, nexto= None, prev = None):\n",
    "        self.key = key \n",
    "        #The key (3 letters)\n",
    "        self.nexto= nexto \n",
    "        #The following key in a chain in separate hashing\n",
    "        self.prev = prev \n",
    "        #The previous one\n",
    "        self.first = first \n",
    "        #The index of the first element in a key\n",
    "            \n",
    "            \n",
    "        \n",
    "     \n",
    "\n",
    "    \n",
    "    "
   ]
  },
  {
   "cell_type": "markdown",
   "id": "a86cc86b",
   "metadata": {},
   "source": [
    "For collision resolution, I decided to use separate chaining instead of open addressing. Separate chaining has a time complexity of O(1+a) where a is the load ratio and equals n.keys/m. Open addressing, on the other hand, takes O(1/(1-a)) time for insert and search methods. Therefore, for a high load ratio, separate chaining, whose time relationship is linear, does exponentially better than open addressing. So, minimizing space complexity (m) as much as possible also leverages the benefits of separate chaining having a relatively more efficient runtime with high load ratios (to support its selection against open addressing). However, I needed to make sure I avoid collisions as much as possible, and that's why I don't want my base \"d\" to be small for hash values to be segregated. So, I chose m to be the smallest value possible that can hold all the k-long substrings and that is larger than the largest possible hash value of base \"d\" (given that k could be as large as 5; if k is larger then we might need to increase m). Note that the power of base d solves the problem of similar but different order substrings. I suppose that this plagiarism detector would be used for student submissions at Minerva. The average assignment length is 1200 words and let's say the average number of characters in each word is 4 characters. This gives me n.keys = 1200*4 / k keys needed to be inserted into the hash table slots. Increasing k means less slots needed but a higher hash value for each.\n",
    "\n",
    "To satisfy all those constraints, benefit from the advantages of separate chaining, optimize segregation of hash values, and minimize space complexity, I selected m to be \"1000117\" considering that it should prime and thus lead to few collisions and away from a power of base 2, and d to be \"16\". Note also that the runtime of this separate chaining implementation will still be efficient if my detector was used for larger texts which adds to its practicality with different inputs. \n",
    "\n",
    "The code cell below is what helped me decide on the values I discussed."
   ]
  },
  {
   "cell_type": "code",
   "execution_count": 713,
   "id": "46fa77ed",
   "metadata": {},
   "outputs": [
    {
     "data": {
      "text/plain": [
       "8528410"
      ]
     },
     "execution_count": 713,
     "metadata": {},
     "output_type": "execute_result"
    }
   ],
   "source": [
    "ord(\"z\") * 16**4 + ord(\"z\") * 16**3 + ord(\"z\") * 16**2 + ord(\"z\") * 16 + ord(\"z\")"
   ]
  },
  {
   "cell_type": "code",
   "execution_count": 716,
   "id": "83ba31f7",
   "metadata": {},
   "outputs": [
    {
     "data": {
      "text/plain": [
       "[(4, 3), (5, 4), (6, 5)]"
      ]
     },
     "execution_count": 716,
     "metadata": {},
     "output_type": "execute_result"
    }
   ],
   "source": [
    "test = HashTable_rolling(1000117, 16, 3)\n",
    "\n",
    "test.insert_all('davidukij')\n",
    "\n",
    "test.search('davidukij', 'avpdukij')\n",
    "\n",
    "#test how the algorithm captures all instances of matches"
   ]
  },
  {
   "cell_type": "code",
   "execution_count": 717,
   "id": "7c278612",
   "metadata": {},
   "outputs": [
    {
     "data": {
      "text/plain": [
       "[(0, 0), (1, 1), (4, 5), (5, 6), (6, 7)]"
      ]
     },
     "execution_count": 717,
     "metadata": {},
     "output_type": "execute_result"
    }
   ],
   "source": [
    "test = HashTable_rolling(1000117, 16, 3)\n",
    "\n",
    "test.insert_all('davidukij')\n",
    "\n",
    "test.search('davidukij', 'davi dukiji')\n",
    "\n",
    "#test how the algorithm deals with space characters"
   ]
  },
  {
   "cell_type": "code",
   "execution_count": 718,
   "id": "a1d3eb4a",
   "metadata": {},
   "outputs": [
    {
     "data": {
      "text/plain": [
       "[(0, 0), (1, 1)]"
      ]
     },
     "execution_count": 718,
     "metadata": {},
     "output_type": "execute_result"
    }
   ],
   "source": [
    "test = HashTable_rolling(1000117, 16, 3)\n",
    "\n",
    "test.insert_all('davidukij')\n",
    "\n",
    "test.search('davidukij', 'davi dujiki')\n",
    "\n",
    "#test if the algorithm gets fooled by two substrings that have\n",
    "#the same characters in a different order"
   ]
  },
  {
   "cell_type": "code",
   "execution_count": 719,
   "id": "4625e99d",
   "metadata": {},
   "outputs": [],
   "source": [
    "import math\n",
    "\n",
    "class HashTable:\n",
    "    def __init__(self, A, k, seed):\n",
    "        self.A = A \n",
    "        #Sets the value for A\n",
    "        self.k = k \n",
    "        #Sets the substring length\n",
    "        self.hash_table = [None for _ in range(int(1e7))] \n",
    "        #Sets the table size\n",
    "        self.seed = seed\n",
    "        \n",
    "    def hash_function_1(self, key0):\n",
    "        ke = 0 \n",
    "        #Creates a variable that stores the cumulative ASCII codes to\n",
    "        #compute hash values\n",
    "        for char in key0[:2]:\n",
    "            ke += 1.5*ord(char) \n",
    "        for char in key0[2:]:\n",
    "            ke += ord(char)\n",
    "        #The hash function for the first two letters is different from\n",
    "        #the rest\n",
    "        A = self.A\n",
    "        m = 2**16\n",
    "        return math.floor(m*(ke*A % 1))\n",
    "    \n",
    "    def hash_function_2(self, key0):\n",
    "        ke = 0\n",
    "        for char in key0[:1]:\n",
    "            ke += 1.8*ord(char)\n",
    "        for char in key0[1:]:\n",
    "            ke += 1.3*ord(char)\n",
    "        #The hash function for the first letter is different from the rest\n",
    "        A = self.A\n",
    "        m = 2*18\n",
    "        return math.floor(m*(ke*A % 1))\n",
    "\n",
    "    def hash_function_3(self, key0):\n",
    "        ke = 0\n",
    "        for char in key0:\n",
    "            ke += ord(char)\n",
    "        A = self.A\n",
    "        m = 2**20\n",
    "        return math.floor(m*(ke*A % 1))\n",
    "    \n",
    "    def hash_function_4(self, key0):\n",
    "        ke = 0\n",
    "        for char in key0:\n",
    "            ke += ord(char)\n",
    "        A = self.A\n",
    "        m = 2**22\n",
    "        return math.floor(m*(ke*A % 1))\n",
    "        \n",
    "    \n",
    "    def insert_all(self,x):\n",
    "        k = self.k\n",
    "        list_of_j = [x for x in range(4)] \n",
    "        #Creates a list of indices for hash functions to randomly chose from \n",
    "        random.seed(self.seed) \n",
    "        #Sets a seed so that searching for hash values is compatible with hash\n",
    "        #values in the table\n",
    "        j = random.choice(list_of_j) \n",
    "        #Picking a random one\n",
    "        for i in range(0,len(x) - k + 1): \n",
    "            #Looping from the first element to the last element that can mark\n",
    "            #a new key\n",
    "            key = x[i:i+k] \n",
    "            #Defines a key of k letters at a time\n",
    "            node = Node(key, i) \n",
    "            #Creates an object of the Node class of \"first\" attribute of i\n",
    "            hashes = [self.hash_function_1(key), self.hash_function_2(key),\n",
    "                      self.hash_function_3(key), self.hash_function_4(key)]\n",
    "            our_hash = hashes[j] \n",
    "            #Picks the hash function of the index we randomly selection above\n",
    "            if self.hash_table[our_hash] is not None: \n",
    "                #Separate chaining: If there is a node at this hash value already,\n",
    "                #add our node to the chain of the previous one\n",
    "                node.nexto = self.hash_table[our_hash]\n",
    "            self.hash_table[our_hash] = node\n",
    "            \n",
    "    def search(self,x,y):\n",
    "        where = [] \n",
    "        #This stores the positions of the first letters of common substrings\n",
    "        k = self.k\n",
    "        list_of_j = [x for x in range(4)]\n",
    "        random.seed(self.seed)\n",
    "        j = random.choice(list_of_j) \n",
    "        #Same as above\n",
    "        for i in range(0,len(y) - k + 1):\n",
    "            key = y[i:i+k]\n",
    "            hashes = [self.hash_function_1(key), self.hash_function_2(key),\n",
    "                      self.hash_function_3(key), self.hash_function_4(key)] \n",
    "            #Same as above\n",
    "            cur = self.hash_table[hashes[j]] \n",
    "            #Store the key of the hash value from the hash table as a new variable \n",
    "            while cur is not None: \n",
    "                #If this key exists already in the hash table\n",
    "                if cur.key == key: \n",
    "                    #If the letters of this key match the letters we are looking for\n",
    "                    where.append((cur.first, i)) \n",
    "                    #Get the indices of the first letter of these matching keys\n",
    "                cur = cur.nexto \n",
    "                #Check for another adjacent match\n",
    "\n",
    "        return where\n",
    "        \n",
    "        \n",
    "            \n",
    "class Node:\n",
    "    '''\n",
    "    This hash table node stores the key and value pairs.\n",
    "    Additionally, it has the attribute next and prev\n",
    "    for us to traverse the linked list and go to the\n",
    "    next node or previous node, respectively.\n",
    "    '''\n",
    "    def __init__(self, key, first, nexto= None, prev = None):\n",
    "        self.key = key\n",
    "        self.nexto= nexto \n",
    "        #The following key in a chain in separate hashing\n",
    "        self.prev = prev \n",
    "        #The previous one\n",
    "        self.first = first \n",
    "        #The index of the first element in a key"
   ]
  },
  {
   "cell_type": "markdown",
   "id": "48438694",
   "metadata": {},
   "source": [
    "In this universal hashing algorithm, I had to decide on a value for A and for m. For A, I needed a value that, when mutiplied by the sum of ord() outputs, rarely yields an integer, for the remainder of its division by zero to exist. Cormen et., al. has the optimal value for A to be \"(math.sqrt(5) - 1) / 2\". \n",
    "\n",
    "m is a key variable that distinguishes my four different multiplicative hash functions. Therefore, and to ensure that each has hash function produce non-overlapping ranges of hash values, I had to make the m for each significantly different, and the m values large in general for the floor of (ke*A % 1)*m to be greater than zero in almost all cases. They are powers of 2 as Cormen et., al. advised. Although adjusting m doesn't help in preventing collisions when they happen, the use of universal hashing does. \n",
    "\n",
    "Therefore, I chose m values for my four functions to be 2^16, 2^18, 2^20, 2^22. The least possible table size that can hold all keys and include hash slots for the largest hash value is approximately 1e7. This will help me later when I compare both algorithm since I have the same table size in both and thus fixed space complexity and load ratios with the same input.\n",
    "\n",
    "My hash functions are good because they avoid overlap and address cases of collision, on average. An experiment using my hash functions is in the last question.\n",
    "\n",
    "Given all of this, the time complexity of this implementation is higher than the first one because we compute the hash function with each key from scratch (without rolling) and because collisions are not handled as efficiently. However, they have the same space complexity in terms of table size. I will expand on the comparison later."
   ]
  },
  {
   "cell_type": "markdown",
   "id": "0f6c163b",
   "metadata": {},
   "source": [
    "Since a random hash function from a list of functions, with a different range of hash values, is chosen each time we initialize the function, we avoid worst-case collision scenarios from an adversary who knows our hash conditions. While searching, we use the same seed value to lookup keys based on hash values of the hash function that is randomly picked. One way to improve my algorithm is to re-chose a random hash function each time we find a collision and again set the seed for searching so that we avoid collisions while still maintaining searching functionality. For example, if we have a string \"avivia\" and we need to find common substrings with \"via\" and k = 3, normally a collision occurs because two keys have the same hash value (assuming we don't use powers as in rolling hashing). In this case, picking a random hash function each time, a one that might cause hashes of these two keys to be different, make us avoid worst-case complexities in such scenarios. My first two functions already have this functionality: the hash values of the first two (or one) letters are calculated differently from the rest. The only thing that my implementation misses is re-hashing whenever a collision is encountered and I am interested to compare the algorithm's behavior without this function now, and when I implement it in the future.\n",
    "\n",
    "The code cell below is what helped me decide on the values I discussed."
   ]
  },
  {
   "cell_type": "code",
   "execution_count": 714,
   "id": "25dd7599",
   "metadata": {},
   "outputs": [
    {
     "data": {
      "text/plain": [
       "4192403.544693947"
      ]
     },
     "execution_count": 714,
     "metadata": {},
     "output_type": "execute_result"
    }
   ],
   "source": [
    "A = (math.sqrt(5) - 1) / 2\n",
    "m = 2**22\n",
    "\n",
    "\n",
    "iasd = []\n",
    "\n",
    "for i in range(1000):\n",
    "    iasd.append(m*(i*A % 1))\n",
    "    \n",
    "max(iasd)"
   ]
  },
  {
   "cell_type": "code",
   "execution_count": 712,
   "id": "027ece9d",
   "metadata": {},
   "outputs": [
    {
     "data": {
      "text/plain": [
       "[(4, 3), (5, 4), (6, 5)]"
      ]
     },
     "execution_count": 712,
     "metadata": {},
     "output_type": "execute_result"
    }
   ],
   "source": [
    "test = HashTable((math.sqrt(5) - 1) / 2, 3, 123)\n",
    "\n",
    "test.insert_all('davidukij')\n",
    "\n",
    "test.search('davidukij', 'avpdukij')\n",
    "\n",
    "\n",
    "#test how the algorithm captures all instances of matches"
   ]
  },
  {
   "cell_type": "code",
   "execution_count": 661,
   "id": "a3e2f406",
   "metadata": {},
   "outputs": [
    {
     "data": {
      "text/plain": [
       "[(0, 0), (1, 1), (4, 5), (5, 6), (6, 7)]"
      ]
     },
     "execution_count": 661,
     "metadata": {},
     "output_type": "execute_result"
    }
   ],
   "source": [
    "test = HashTable((math.sqrt(5) - 1) / 2, 3, 123)\n",
    "\n",
    "test.insert_all('davidukij')\n",
    "\n",
    "test.search('davidukij', 'davi dukiji')\n",
    "\n",
    "#test how the algorithm deals with space characters"
   ]
  },
  {
   "cell_type": "code",
   "execution_count": 720,
   "id": "5d954306",
   "metadata": {},
   "outputs": [
    {
     "data": {
      "text/plain": [
       "[(0, 0), (1, 1)]"
      ]
     },
     "execution_count": 720,
     "metadata": {},
     "output_type": "execute_result"
    }
   ],
   "source": [
    "test = HashTable((math.sqrt(5) - 1) / 2, 3, 123)\n",
    "\n",
    "test.insert_all('davidukij')\n",
    "\n",
    "test.search('davidukij', 'davi dujiki')\n",
    "\n",
    "#test if the algorithm gets fooled by two substrings that\n",
    "#have the same characters in a different order"
   ]
  },
  {
   "cell_type": "markdown",
   "id": "a6d45bea",
   "metadata": {},
   "source": [
    "As I explained when I discussed my first implementation, my algorithmic design makes the plagiarism detector practical in terms of input sizes and choices of k. \n",
    "\n",
    "My detector works by taking an input text, chunking it into substrings of length k, computing the hash value of each using rolling hashing (in the first one) or universal multiplicative hashing (in the second one), and store them in a table. Let's say that this piece of text is a student's assignment submission and we want to see how substrings of length k are common between it and another student's submission. We then take the other piece of text, chunk it into keys, calculate the hash values for each using the same method used in the table, and search for each hash value in the table to see if its key exists (i.e. if the substring is common). It then returns the index, in each piece of text, that mark the beginning of each common substring.\n",
    "\n",
    "One limitation of this is the choice of k. We need to look at common words; so, a large k could cross some words and thus ignore their match, and a small k could end up holding an uncomplete word. One possible solution to this is making the code stop whenever it sees a space and thus consider complete words only.\n",
    "\n",
    "When it comes to space characters, my algorithm consider substrings that are separated by spaces as an entity, which is important for accurately and validly detecting plagiarism.\n",
    "\n",
    "A brute-force algorithm would go through all substrings in a given window, one by one, in a piece of text and compare each to all subtrings within the same window size in another piece of text. We can still avoid the limitations presented by k and space characters in this algorithm. However, time complexity will be a function of O(mn) where m and n are the number of string windows in the two pieces of text."
   ]
  },
  {
   "cell_type": "code",
   "execution_count": 721,
   "id": "2834fbe3",
   "metadata": {},
   "outputs": [],
   "source": [
    "import time\n",
    "from numpy import random as rd\n",
    "\n",
    "alphabet = [' ', 'a', 'b', 'c', 'd', 'e', 'f', 'g', 'h', 'i', 'j', 'k', 'l',\n",
    "            'm', 'n', 'o', 'p', 'q', 'r', 's', 't', 'u', 'v', 'w', 'x', 'y', 'z']\n",
    "\n",
    "testing = \"abc\"\n",
    "\n",
    "searching = \"abc\"\n",
    "\n",
    "timely_rolling = []\n",
    "\n",
    "timely = []\n",
    "\n",
    "n = []\n",
    "\n",
    "for a in range(100):\n",
    "    \n",
    "    testing += rd.choice(alphabet, replace= True)\n",
    "    \n",
    "    searching += rd.choice(alphabet, replace= True)\n",
    "\n",
    "    #Iteratively and randomly increases the length of each string\n",
    "    \n",
    "    t1 = time.time()\n",
    "\n",
    "    test_rolling = HashTable_rolling(1000117, 16, 3)\n",
    "\n",
    "    test_rolling.insert_all(testing)\n",
    "\n",
    "    test_rolling.search(testing, searching)\n",
    "\n",
    "    t2 = time.time()\n",
    "\n",
    "    test = HashTable((math.sqrt(5) - 1) / 2, 3, 123)\n",
    "\n",
    "    test.insert_all(testing)\n",
    "\n",
    "    test.search(testing, searching)\n",
    "\n",
    "    t3 = time.time()\n",
    "    \n",
    "    timely_rolling.append(t2-t1)\n",
    "    \n",
    "    timely.append(t3-t2)\n",
    "    \n"
   ]
  },
  {
   "cell_type": "code",
   "execution_count": 723,
   "id": "b2ce904b",
   "metadata": {},
   "outputs": [
    {
     "name": "stdout",
     "output_type": "stream",
     "text": [
      "abcoqpnigjbcsasnulerxmpqkhsvkxezcmvqwphyfg a kn orsfvgacfetkdjtfcc uwvc vkgxcquoyyophhrbapsbiymilmvzci \n"
     ]
    },
    {
     "data": {
      "image/png": "[encoded data removed]",
      "text/plain": [
       "<Figure size 432x288 with 1 Axes>"
      ]
     },
     "metadata": {
      "needs_background": "light"
     },
     "output_type": "display_data"
    },
    {
     "data": {
      "image/png": "[encoded data removed]",
      "text/plain": [
       "<Figure size 432x288 with 1 Axes>"
      ]
     },
     "metadata": {
      "needs_background": "light"
     },
     "output_type": "display_data"
    }
   ],
   "source": [
    "print(searching)\n",
    "\n",
    "import matplotlib.pyplot as plt\n",
    "\n",
    "x = list(range(3,103))\n",
    "\n",
    "plt.plot(x,timely_rolling,label = \"Rolling\")\n",
    "plt.title(\"Time complexity of the rolling hashing algorithm\")\n",
    "plt.ylabel(\"Time (s)\")\n",
    "plt.xlabel(\"Input size\")\n",
    "plt.legend(loc=\"upper left\")\n",
    "plt.show()\n",
    "\n",
    "\n",
    "plt.plot(x,timely,label = \"Universal Multiplicative\")\n",
    "plt.title(\"Time complexity of the universal multiplicative hashing algorithm\")\n",
    "plt.ylabel(\"Time (s)\")\n",
    "plt.xlabel(\"Input size\")\n",
    "plt.legend(loc=\"upper left\")\n",
    "plt.show()"
   ]
  },
  {
   "cell_type": "markdown",
   "id": "ea0263f9",
   "metadata": {},
   "source": [
    "From the experimental analysis plot, we can see that the time complexity of the rolling hashing algorithm is lower than that of the universal hashing as the number of letters in an input word increases. I already explained why this is the case when I discussed the universal hashing algorithm.\n",
    "\n",
    "\n",
    "The time complexity for rolling hashing is O(n) to find the indices of all common substrings. Creating the hash table takes O(n) where n is the number of characters in the input we are passing through to calculate hash values. Searching for the key of a given hash value takes O(1) time for all keys because we don't have to compute hash values every time. Therefore, the runtime scales as a function of O(n) where n is the number of characters in the piece of text that we want to test for plagiarism. \n",
    "\n",
    "For the universal multiplicative hashing, since we compute hash values for all keys in both strings, the time complexity becomes O((m-n+1)n) where m is the length of the second string to be matched."
   ]
  },
  {
   "cell_type": "markdown",
   "id": "53920ff8",
   "metadata": {},
   "source": [
    "HCs:\n",
    "\n",
    " #algorithms: I created valid and efficient algorithmic strategies for each part of my plagiarism detector code. First, I focused on creating a code that works. Constructing an algorithmic code that results in the output I expect for each step is what I need to focus on before I consider time or space efficiency. Then, I did a reverse outline for those algorithmic steps and carefully went over them many times before I specifued which part of the algorithm I could refine to increase its efficiency. For example, I saw which parts have high time complexity and focus on them to improve time efficiency in the second algorithm. I also explained how I made those edits to show how I improve my algorithm.\n",
    " \n",
    " #constraints: This problem requires the use of hash tables, which we weren’t introduced to in class. This imposed an obstacle that must be overcome by getting familiar with hash tables and practicing them before I start incorporating them into my algorithm for detecting plagiarism. I did this by reading the resources mentioned in the problem description, and also looking for more videos explaining the topic since videos prove to be more effective for me to understand computational concepts. One constraint in my algorithm for universal multiplicative hashing is the still possible occurence of collisions, which I can overcome using the methods I mentioned.\n",
    " \n",
    " #audience: Based on the #CodeReadability feedback from my first assignment, I considered my application of this HC by editing my comments so that they effectively explain my code while at the same time considering the grader’s experience and they expect my comments to show. Initially I made comments that were exaggeratedly explaining my steps and that were too long, making my code not clearly readable. Therefore, I needed to make my code clear, my comments quick and clear, and suit the minds of the graders. I also made sure my comments are not redundant.\n",
    " \n",
    " \n",
    "LOs:\n",
    " \n",
    "The only LO that assignments feedback helped me to understand and apply better, because it was tailored to my answer, was #CodeReadability. I made sure my code is easy to follow and appropriately commented. I also made sure I included comprehensive docstrings for each function I use. I avoided redudancy and made sure all my statements are precise."
   ]
  }
 ],
 "metadata": {
  "kernelspec": {
   "display_name": "Python 3",
   "language": "python",
   "name": "python3"
  },
  "language_info": {
   "codemirror_mode": {
    "name": "ipython",
    "version": 3
   },
   "file_extension": ".py",
   "mimetype": "text/x-python",
   "name": "python",
   "nbconvert_exporter": "python",
   "pygments_lexer": "ipython3",
   "version": "3.8.8"
  }
 },
 "nbformat": 4,
 "nbformat_minor": 5
}
